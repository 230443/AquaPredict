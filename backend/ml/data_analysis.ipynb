{
 "cells": [
  {
   "cell_type": "markdown",
   "metadata": {},
   "source": [
    "# AquaPredict"
   ]
  },
  {
   "cell_type": "markdown",
   "metadata": {},
   "source": [
    "## Dataset Information"
   ]
  },
  {
   "cell_type": "markdown",
   "metadata": {},
   "source": [
    "### Location:\n",
    "An Internet of Things Labelled Dataset for Aquaponics Fish Pond Water Quality Monitoring System,\n",
    "HiPIC Research Group, Department of Computer Science, University of Nigeria Nsukka, Nigeria\n",
    "Click here for more details\n",
    "\n",
    "### Contact:\n",
    "Collins Udanor, email: collins.udanor@unn.edu.ng\n",
    "Blessing Oguokiri, email: blessing.ogbuokiri@unn.edu.ng\n",
    "\n",
    "### Dataset Information:\n",
    "Aquaponics meta-data\n",
    "The enclosed datasets are generated from freshwater aquaponics catfish ponds. The datasets are generated automatically at 5 seconds intervals using the following water quality sensors driven by the ESP 32 microcontroller: Dallas Instrument Temperature sensor (DS18B20), DF Robot Turbidity sensor, DF Robot Dissolved Oxygen sensor, DF Robot pH sensor V2.2, MQ-137 Ammonia sensor, and MQ-135 Nitrate sensor.\n",
    "The project is funded by the Lacuna Award for Agriculture in Sub-Saharan Africa 2020 under the management of the Meridian Institute Colorado, USA.\n",
    "The datasets and results in this section were sensor readings from June to mid-October 2021. There are 12 datasets, each from 12 aquaponics catfish ponds. Each of the 12 ponds IoT unit has six sensors (temperature, turbidity, dissolved oxygen, pH, ammonia, nitrate). As of the time of this report each unit has generated over 170,000 instances. The datasets are downloaded at intervals, cleaned, and labelled.\n",
    "\n",
    "#### The attributes are:\n",
    "1) Date/Time\n",
    "2) Temperature\n",
    "3) Turbidity\n",
    "4) Dissolved Oxygen (DO)\n",
    "5) pH\n",
    "6) Ammonia\n",
    "7) Nitrate\n",
    "8) Population of fish in the pond\n",
    "9)Length of Fish\n",
    "10) Weight of Fish\n",
    "\n",
    "### Attribute Information:\n",
    "All attributes are continuous\n",
    "\n",
    "No statistics available, but suggest to standardise variables for certain uses (e.g. for use with classifiers that are NOT scale-invariant)\n",
    "\n",
    "*NOTE:* Attributes 9 and 10 are class identifiers that can be used differently. For example, one may need to predict the length of the fish using the water quality parameters (2-7) or in addition to the population or stocking density (parameter 8). Similarly, the same can be done using the weight attribute."
   ]
  },
  {
   "cell_type": "markdown",
   "metadata": {},
   "source": [
    "Source: [https://www.kaggle.com/datasets/ogbuokiriblessing/sensor-based-aquaponics-fish-pond-datasets](https://www.kaggle.com/datasets/ogbuokiriblessing/sensor-based-aquaponics-fish-pond-datasets)"
   ]
  },
  {
   "cell_type": "markdown",
   "metadata": {},
   "source": [
    "## Imports"
   ]
  },
  {
   "cell_type": "code",
   "execution_count": null,
   "metadata": {},
   "outputs": [],
   "source": [
    "%load_ext autoreload\n",
    "%autoreload 2\n",
    "\n",
    "%matplotlib inline"
   ]
  },
  {
   "cell_type": "code",
   "execution_count": null,
   "metadata": {},
   "outputs": [],
   "source": [
    "from fastai.imports import pd, plt, np"
   ]
  },
  {
   "cell_type": "code",
   "execution_count": null,
   "metadata": {},
   "outputs": [],
   "source": [
    "plt.rcParams['figure.figsize'] = (20, 5)"
   ]
  },
  {
   "cell_type": "markdown",
   "metadata": {},
   "source": [
    "## Constants"
   ]
  },
  {
   "cell_type": "code",
   "execution_count": null,
   "metadata": {},
   "outputs": [],
   "source": [
    "OPTIMAL_WATER_TEMP = 24.5\n",
    "OPTIMAL_BED_TEMP = 24.5"
   ]
  },
  {
   "cell_type": "markdown",
   "metadata": {},
   "source": [
    "## Data"
   ]
  },
  {
   "cell_type": "markdown",
   "metadata": {},
   "source": [
    "Take data from the first pond from [kaggle](https://www.kaggle.com/datasets/ogbuokiriblessing/sensor-based-aquaponics-fish-pond-datasets)"
   ]
  },
  {
   "cell_type": "code",
   "execution_count": null,
   "metadata": {},
   "outputs": [],
   "source": [
    "df = pd.read_csv(\"data/IoTpond1.csv\", parse_dates=[\"created_at\"])"
   ]
  },
  {
   "cell_type": "code",
   "execution_count": null,
   "metadata": {},
   "outputs": [],
   "source": [
    "df.drop(['entry_id', 'Turbidity(NTU)', 'Dissolved Oxygen(g/ml)', 'PH', 'Ammonia(g/ml)', 'Nitrate(g/ml)','Population', 'Fish_Length(cm)', 'Fish_Weight(g)'], axis=1, inplace=True, errors='ignore')"
   ]
  },
  {
   "cell_type": "code",
   "execution_count": null,
   "metadata": {},
   "outputs": [],
   "source": [
    "# create DatetimeIndex from created_at\n",
    "df.index = df.created_at"
   ]
  },
  {
   "cell_type": "code",
   "execution_count": null,
   "metadata": {},
   "outputs": [],
   "source": [
    "df"
   ]
  },
  {
   "cell_type": "code",
   "execution_count": null,
   "metadata": {},
   "outputs": [],
   "source": [
    "df.dtypes"
   ]
  },
  {
   "cell_type": "code",
   "execution_count": null,
   "metadata": {},
   "outputs": [],
   "source": [
    "df.describe(datetime_is_numeric=True)"
   ]
  },
  {
   "cell_type": "markdown",
   "metadata": {},
   "source": [
    "Let assume that given parameter describe water temperature."
   ]
  },
  {
   "cell_type": "code",
   "execution_count": null,
   "metadata": {},
   "outputs": [],
   "source": [
    "# rename columns Temperature (C) to temp_water\n",
    "df.rename(columns={'Temperature (C)': 'temp_water'}, inplace=True)"
   ]
  },
  {
   "cell_type": "code",
   "execution_count": null,
   "metadata": {},
   "outputs": [],
   "source": [
    "# remove rows with temp_water == -127\n",
    "df = df[df.temp_water != -127]"
   ]
  },
  {
   "cell_type": "code",
   "execution_count": null,
   "metadata": {},
   "outputs": [],
   "source": [
    "# show plot of temp_water. Agreggate by day. Plot as line chart\n",
    "plt.plot(df.temp_water.resample('D').mean(), label='temp_water day')\n",
    "plt.plot(df.temp_water.resample('M').mean(), label='temp_water month')\n",
    "plt.legend()\n",
    "plt.show()\n"
   ]
  },
  {
   "cell_type": "markdown",
   "metadata": {},
   "source": [
    "Let ambient temperature be ranging from 21 to 29\n",
    "\n",
    "[source](https://www.climatestotravel.com/climate/nigeria)"
   ]
  },
  {
   "cell_type": "code",
   "execution_count": null,
   "metadata": {},
   "outputs": [],
   "source": [
    "print(np.mean([21,29]))"
   ]
  },
  {
   "cell_type": "markdown",
   "metadata": {},
   "source": [
    "Then ambient and the growbed temperature have higher variance."
   ]
  },
  {
   "cell_type": "code",
   "execution_count": null,
   "metadata": {},
   "outputs": [],
   "source": [
    "# add simple moving average of temp_water from 3 days to df\n",
    "df['temp_water_sma'] = df[\"temp_water\"].rolling('3D').mean()"
   ]
  },
  {
   "cell_type": "code",
   "execution_count": null,
   "metadata": {},
   "outputs": [],
   "source": [
    "# plot temp_water and temp_water_sma\n",
    "plt.plot(df.temp_water, label='temp_water')\n",
    "plt.plot(df.temp_water_sma, label='temp_water_sma')\n",
    "plt.legend()\n",
    "# increase width of the graph\n",
    "plt.show()"
   ]
  },
  {
   "cell_type": "markdown",
   "metadata": {},
   "source": [
    "Amplify distance from `sma`"
   ]
  },
  {
   "cell_type": "code",
   "execution_count": null,
   "metadata": {},
   "outputs": [],
   "source": [
    "# Amplify distance from `sma` to `temp_water`\n",
    "df['temp_bed'] = df['temp_water_sma'] + (df['temp_water'] - df['temp_water_sma']) * 2\n",
    "df['temp_ambient'] = df['temp_water_sma'] + (df['temp_water'] - df['temp_water_sma']) * 3"
   ]
  },
  {
   "cell_type": "code",
   "execution_count": null,
   "metadata": {},
   "outputs": [],
   "source": [
    "df.describe()"
   ]
  },
  {
   "cell_type": "code",
   "execution_count": null,
   "metadata": {},
   "outputs": [],
   "source": [
    "# get slice of df from 2021-08-01 to 2021-08-07\n",
    "df_slice = df.loc['2021-08-01':'2021-08-07']\n",
    "# plot temp_water and temp_water_sma and temp_bed and temp_ambient\n",
    "plt.plot(df_slice.temp_water, label='temp_water')\n",
    "plt.plot(df_slice.temp_water_sma, label='temp_water_sma')\n",
    "plt.plot(df_slice.temp_bed, label='temp_bed')\n",
    "plt.plot(df_slice.temp_ambient, label='temp_ambient')\n",
    "plt.legend()\n",
    "\n",
    "plt.show()"
   ]
  },
  {
   "cell_type": "markdown",
   "metadata": {},
   "source": [
    "Add offset to water and growbad temperatures. Shifting using datetime is more precise but it would need interpolation to match indexes."
   ]
  },
  {
   "cell_type": "code",
   "execution_count": null,
   "metadata": {},
   "outputs": [],
   "source": [
    "# shift temp_bed column by 3 hours\n",
    "df_shift = df.shift(periods=3, freq='H')\n",
    "left, right = df.align(df_shift, join='inner', axis=0)\n",
    "left[\"temp_bed\"] = right[\"temp_bed\"]\n",
    "\n",
    "# shift temp_water column by 5 hours\n",
    "df_shift = df.shift(periods=5, freq='H')\n",
    "left_2, right_2 = df.align(df_shift, join='inner', axis=0)\n",
    "left_2[\"temp_water\"] = right_2[\"temp_water\"]\n",
    "\n",
    "# shift by periods\n",
    "df_shift_simple = df \n",
    "df_shift_simple[\"temp_bed\"] = df[\"temp_bed\"].shift(periods=200)\n",
    "df_shift_simple[\"temp_water\"] = df[\"temp_water\"].shift(periods=400)\n",
    "\n",
    "df_shifted = df_shift_simple"
   ]
  },
  {
   "cell_type": "code",
   "execution_count": null,
   "metadata": {},
   "outputs": [],
   "source": [
    "# get slice of df from 2021-08-01 to 2021-08-07\n",
    "df_slice = df_shifted.loc['2021-08-01':'2021-08-12']\n",
    "# plot temp_water and temp_water_sma and temp_bed and temp_ambient\n",
    "plt.plot(df_slice.temp_water, label='temp_water' )\n",
    "plt.plot(df_slice.temp_water_sma, label='temp_water_sma')\n",
    "plt.plot(df_slice.temp_bed, label='temp_bed')\n",
    "plt.plot(df_slice.temp_ambient, label='temp_ambient')\n",
    "\n",
    "plt.legend()"
   ]
  },
  {
   "cell_type": "code",
   "execution_count": null,
   "metadata": {},
   "outputs": [],
   "source": [
    "df = df_shifted"
   ]
  },
  {
   "cell_type": "markdown",
   "metadata": {},
   "source": [
    "Add heater values"
   ]
  },
  {
   "cell_type": "code",
   "execution_count": null,
   "metadata": {},
   "outputs": [],
   "source": [
    "# add column \"water_heater\" with 1 if temp_water < OPTIMAL_WATER_TEMP and 0 otherwise\n",
    "df['water_heater'] = np.where(df['temp_water'] < OPTIMAL_WATER_TEMP, 1, 0).astype('int8')\n",
    "df['bed_heater'] = np.where(df['temp_bed'] < OPTIMAL_BED_TEMP, 1, 0).astype('int8')\n",
    "df.dtypes"
   ]
  },
  {
   "cell_type": "code",
   "execution_count": null,
   "metadata": {},
   "outputs": [],
   "source": [
    "counts = pd.DataFrame(df[\"bed_heater\"].value_counts())\n",
    "counts[\"water_heater\"] = df[\"water_heater\"].value_counts()\n",
    "counts.plot(kind='bar', title='bed_heater vs water_heater')"
   ]
  },
  {
   "cell_type": "markdown",
   "metadata": {},
   "source": [
    "Save dataset in feather format"
   ]
  },
  {
   "cell_type": "code",
   "execution_count": null,
   "metadata": {},
   "outputs": [],
   "source": [
    "# remove index from df\n",
    "df.drop(['created_at'], axis=1, inplace=True)\n",
    "df.reset_index(inplace=True)\n",
    "os.makedirs('tmp', exist_ok=True)\n",
    "df.to_feather('tmp/aquaponics.feather')"
   ]
  },
  {
   "cell_type": "code",
   "execution_count": null,
   "metadata": {},
   "outputs": [],
   "source": [
    "df = pd.read_feather('tmp/aquaponics.feather')\n",
    "df.index = df.created_at"
   ]
  }
 ],
 "metadata": {
  "interpreter": {
   "hash": "31f2aee4e71d21fbe5cf8b01ff0e069b9275f58929596ceb00d14d90e3e16cd6"
  },
  "kernelspec": {
   "display_name": "Python 3.6.9 64-bit",
   "language": "python",
   "name": "python3"
  },
  "language_info": {
   "codemirror_mode": {
    "name": "ipython",
    "version": 3
   },
   "file_extension": ".py",
   "mimetype": "text/x-python",
   "name": "python",
   "nbconvert_exporter": "python",
   "pygments_lexer": "ipython3",
   "version": "3.6.9"
  },
  "orig_nbformat": 4
 },
 "nbformat": 4,
 "nbformat_minor": 2
}
